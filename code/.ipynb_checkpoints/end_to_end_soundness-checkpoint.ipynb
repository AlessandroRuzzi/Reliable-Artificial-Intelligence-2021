{
 "cells": [
  {
   "cell_type": "code",
   "execution_count": 1,
   "id": "dressed-antique",
   "metadata": {},
   "outputs": [],
   "source": [
    "import torch\n",
    "from networks import FullyConnected\n",
    "import torch.nn as nn\n",
    "\n",
    "from transformer import NetworkTransformer\n",
    "from utils import get_input_bounds\n",
    "from torchvision import datasets\n",
    "from torchvision.transforms import ToTensor\n",
    "import random\n",
    "import torchattacks\n",
    "from verifier import analyze"
   ]
  },
  {
   "cell_type": "code",
   "execution_count": 2,
   "id": "corresponding-phase",
   "metadata": {},
   "outputs": [],
   "source": [
    "def get_net(net_name):\n",
    "    if net_name.endswith('fc1'):\n",
    "        fc_layers = [50, 10]\n",
    "        net = FullyConnected(DEVICE, INPUT_SIZE, fc_layers).to(DEVICE)\n",
    "    elif net_name.endswith('fc2'):\n",
    "        fc_layers = [100, 50, 10]\n",
    "        net = FullyConnected(DEVICE, INPUT_SIZE, fc_layers).to(DEVICE)\n",
    "    elif net_name.endswith('fc3'):\n",
    "        fc_layers = [100, 100, 10]\n",
    "        net = FullyConnected(DEVICE, INPUT_SIZE, fc_layers).to(DEVICE)\n",
    "    elif net_name.endswith('fc4'):\n",
    "        fc_layers = [100, 100, 50, 10]\n",
    "        net = FullyConnected(DEVICE, INPUT_SIZE, fc_layers).to(DEVICE)\n",
    "    elif net_name.endswith('fc5'):\n",
    "        fc_layers = [100, 100, 100, 100, 10]\n",
    "        net = FullyConnected(DEVICE, INPUT_SIZE, fc_layers).to(DEVICE)\n",
    "    else:\n",
    "        assert False\n",
    "    net.load_state_dict(torch.load('../mnist_nets/%s.pt' % net_name, map_location=torch.device(DEVICE)))\n",
    "    return net, fc_layers"
   ]
  },
  {
   "cell_type": "code",
   "execution_count": 3,
   "id": "killing-motion",
   "metadata": {},
   "outputs": [],
   "source": [
    "def get_sample(batch_size=1):\n",
    "    mnist_data = datasets.MNIST(root = '/tmp/mnist/data', train = False, transform = ToTensor(), download = True)\n",
    "    mnist_loader = torch.utils.data.DataLoader(mnist_data, batch_size=batch_size , shuffle=True)\n",
    "    images, true_labels = iter(mnist_loader).next()\n",
    "    return images, true_labels"
   ]
  },
  {
   "cell_type": "code",
   "execution_count": 4,
   "id": "conservative-ownership",
   "metadata": {},
   "outputs": [],
   "source": [
    "def attack(eps, net, images, true_labels):\n",
    "    atk = torchattacks.PGD(net, eps=eps, alpha=2/255, steps=100, random_start=True)\n",
    "    #atk = torchattacks.FGSM(net, eps=eps)\n",
    "    #atk = torchattacks.CW(net, c=1, lr=0.01, steps=100, kappa=0)\n",
    "    adv_images = atk(images, true_labels)\n",
    "    outs =  net(adv_images)\n",
    "    pred_label = torch.max(outs, 1)[1].tolist()\n",
    "    return adv_images, pred_label"
   ]
  },
  {
   "cell_type": "code",
   "execution_count": 7,
   "id": "prostate-round",
   "metadata": {},
   "outputs": [],
   "source": [
    "DEVICE = 'cpu'\n",
    "INPUT_SIZE = 28\n",
    "HEURISTICS = ['x','midpoint']\n",
    "net_name = 'net0_fc2'\n",
    "eps = 8/255\n",
    "batch_size=20 # number of adversarial examples we want to check"
   ]
  },
  {
   "cell_type": "code",
   "execution_count": null,
   "id": "hindu-promotion",
   "metadata": {},
   "outputs": [
    {
     "name": "stdout",
     "output_type": "stream",
     "text": [
      "18 asserted labels.\n",
      "verified\n"
     ]
    }
   ],
   "source": [
    "net, fc_layers = get_net(net_name)\n",
    "images, true_labels = get_sample(batch_size=batch_size)\n",
    "adv_images, pred_label = attack(eps, net, images, true_labels)\n",
    "#print(pred_label, true_labels.tolist())\n",
    "#assert pred_label == true_labels.tolist()\n",
    "\n",
    "## Pull out the indices that assert.\n",
    "asserted_indices = list(i[0] == i[1] for i in zip(pred_label, true_labels.tolist()))\n",
    "#print(asserted_indices)\n",
    "print(f\"{sum(asserted_indices)} asserted labels.\")\n",
    "\n",
    "not_ver = 0\n",
    "for each_image, each_label, assertion in zip(adv_images, true_labels, asserted_indices):\n",
    "    if analyze(net, each_image, eps, each_label, fc_layers):\n",
    "        if not assertion :\n",
    "            print('verified unsound')\n",
    "        else:\n",
    "            print('verified')\n",
    "        \n",
    "    else:\n",
    "        print('not verified')"
   ]
  },
  {
   "cell_type": "code",
   "execution_count": null,
   "id": "gentle-turner",
   "metadata": {},
   "outputs": [],
   "source": []
  }
 ],
 "metadata": {
  "kernelspec": {
   "display_name": "Python 3",
   "language": "python",
   "name": "python3"
  },
  "language_info": {
   "codemirror_mode": {
    "name": "ipython",
    "version": 3
   },
   "file_extension": ".py",
   "mimetype": "text/x-python",
   "name": "python",
   "nbconvert_exporter": "python",
   "pygments_lexer": "ipython3",
   "version": "3.9.1"
  }
 },
 "nbformat": 4,
 "nbformat_minor": 5
}
